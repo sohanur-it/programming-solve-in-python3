{
 "cells": [
  {
   "cell_type": "code",
   "execution_count": 4,
   "metadata": {},
   "outputs": [
    {
     "name": "stdout",
     "output_type": "stream",
     "text": [
      "23 435 6456 6 45\n"
     ]
    },
    {
     "data": {
      "text/plain": [
       "6456"
      ]
     },
     "execution_count": 4,
     "metadata": {},
     "output_type": "execute_result"
    }
   ],
   "source": [
    "\n",
    "#to take n input in an array\n",
    "a= list(map(int, input (). split ()))\n",
    "a[2]\n",
    "\n"
   ]
  },
  {
   "cell_type": "code",
   "execution_count": 19,
   "metadata": {},
   "outputs": [
    {
     "name": "stdout",
     "output_type": "stream",
     "text": [
      "<required run> <current run> <remaining balls> :300 294 6\n",
      "current run rate: 6.0\n",
      "required run rate : 7.0\n"
     ]
    }
   ],
   "source": [
    "RR,CR,RB=input(\"<required run> <current run> <remaining balls> :\").split(\" \")\n",
    "RR,CR=[int(RR),int(CR)]\n",
    "RB=int(RB)\n",
    "balls_played=300-RB\n",
    "current_run_rate=(CR/balls_played)*6\n",
    "current_run_rate=round(current_run_rate,2)\n",
    "print(\"current run rate:\",current_run_rate)\n",
    "required_run_rate=(((RR+1)-CR)/RB)*6\n",
    "required_run_rate=round(required_run_rate,2)\n",
    "print(\"required run rate :\",required_run_rate)\n"
   ]
  },
  {
   "cell_type": "code",
   "execution_count": null,
   "metadata": {},
   "outputs": [],
   "source": []
  }
 ],
 "metadata": {
  "kernelspec": {
   "display_name": "Python 3",
   "language": "python",
   "name": "python3"
  },
  "language_info": {
   "codemirror_mode": {
    "name": "ipython",
    "version": 3
   },
   "file_extension": ".py",
   "mimetype": "text/x-python",
   "name": "python",
   "nbconvert_exporter": "python",
   "pygments_lexer": "ipython3",
   "version": "3.6.7"
  }
 },
 "nbformat": 4,
 "nbformat_minor": 2
}
